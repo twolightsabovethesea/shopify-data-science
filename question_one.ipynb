{
 "cells": [
  {
   "cell_type": "code",
   "execution_count": 1,
   "metadata": {},
   "outputs": [],
   "source": [
    "#import dependencies\n",
    "import pandas as pd"
   ]
  },
  {
   "cell_type": "code",
   "execution_count": 3,
   "metadata": {},
   "outputs": [
    {
     "data": {
      "text/html": [
       "<div>\n",
       "<style scoped>\n",
       "    .dataframe tbody tr th:only-of-type {\n",
       "        vertical-align: middle;\n",
       "    }\n",
       "\n",
       "    .dataframe tbody tr th {\n",
       "        vertical-align: top;\n",
       "    }\n",
       "\n",
       "    .dataframe thead th {\n",
       "        text-align: right;\n",
       "    }\n",
       "</style>\n",
       "<table border=\"1\" class=\"dataframe\">\n",
       "  <thead>\n",
       "    <tr style=\"text-align: right;\">\n",
       "      <th></th>\n",
       "      <th>order_id</th>\n",
       "      <th>shop_id</th>\n",
       "      <th>user_id</th>\n",
       "      <th>order_amount</th>\n",
       "      <th>total_items</th>\n",
       "      <th>payment_method</th>\n",
       "      <th>created_at</th>\n",
       "    </tr>\n",
       "  </thead>\n",
       "  <tbody>\n",
       "    <tr>\n",
       "      <th>0</th>\n",
       "      <td>1</td>\n",
       "      <td>53</td>\n",
       "      <td>746</td>\n",
       "      <td>224</td>\n",
       "      <td>2</td>\n",
       "      <td>cash</td>\n",
       "      <td>2017-03-13 12:36:56</td>\n",
       "    </tr>\n",
       "    <tr>\n",
       "      <th>1</th>\n",
       "      <td>2</td>\n",
       "      <td>92</td>\n",
       "      <td>925</td>\n",
       "      <td>90</td>\n",
       "      <td>1</td>\n",
       "      <td>cash</td>\n",
       "      <td>2017-03-03 17:38:52</td>\n",
       "    </tr>\n",
       "    <tr>\n",
       "      <th>2</th>\n",
       "      <td>3</td>\n",
       "      <td>44</td>\n",
       "      <td>861</td>\n",
       "      <td>144</td>\n",
       "      <td>1</td>\n",
       "      <td>cash</td>\n",
       "      <td>2017-03-14 4:23:56</td>\n",
       "    </tr>\n",
       "    <tr>\n",
       "      <th>3</th>\n",
       "      <td>4</td>\n",
       "      <td>18</td>\n",
       "      <td>935</td>\n",
       "      <td>156</td>\n",
       "      <td>1</td>\n",
       "      <td>credit_card</td>\n",
       "      <td>2017-03-26 12:43:37</td>\n",
       "    </tr>\n",
       "    <tr>\n",
       "      <th>4</th>\n",
       "      <td>5</td>\n",
       "      <td>18</td>\n",
       "      <td>883</td>\n",
       "      <td>156</td>\n",
       "      <td>1</td>\n",
       "      <td>credit_card</td>\n",
       "      <td>2017-03-01 4:35:11</td>\n",
       "    </tr>\n",
       "  </tbody>\n",
       "</table>\n",
       "</div>"
      ],
      "text/plain": [
       "   order_id  shop_id  user_id  order_amount  total_items payment_method  \\\n",
       "0         1       53      746           224            2           cash   \n",
       "1         2       92      925            90            1           cash   \n",
       "2         3       44      861           144            1           cash   \n",
       "3         4       18      935           156            1    credit_card   \n",
       "4         5       18      883           156            1    credit_card   \n",
       "\n",
       "            created_at  \n",
       "0  2017-03-13 12:36:56  \n",
       "1  2017-03-03 17:38:52  \n",
       "2   2017-03-14 4:23:56  \n",
       "3  2017-03-26 12:43:37  \n",
       "4   2017-03-01 4:35:11  "
      ]
     },
     "execution_count": 3,
     "metadata": {},
     "output_type": "execute_result"
    }
   ],
   "source": [
    "# read in data from CSV and create a dataframe\n",
    "\n",
    "filepath = \"2019 Winter Data Science Intern Challenge Data Set - Sheet1.csv\"\n",
    "\n",
    "file = pd.read_csv(filepath)\n",
    "\n",
    "df = pd.DataFrame(file)\n",
    "\n",
    "df.head()"
   ]
  },
  {
   "cell_type": "code",
   "execution_count": 4,
   "metadata": {},
   "outputs": [],
   "source": [
    "# create a copy dataframe to work with\n",
    "\n",
    "sales_df = df.copy()"
   ]
  },
  {
   "cell_type": "markdown",
   "metadata": {},
   "source": [
    "### This assignment states that there seems to be something wrong with a previously calculated average order value so the first step is to sort the data by order amount and look for any orders that seem unusual."
   ]
  },
  {
   "cell_type": "code",
   "execution_count": 29,
   "metadata": {},
   "outputs": [],
   "source": [
    "# sort the data by order_amount from greatest to least and inspect the results\n",
    "\n",
    "sorted_df = sales_df.sort_values(\"order_amount\",axis=0,ascending=False)\n",
    "\n",
    "# uncomment the following line to see the data\n",
    "# sorted_df.head(50)"
   ]
  },
  {
   "cell_type": "code",
   "execution_count": 30,
   "metadata": {},
   "outputs": [],
   "source": [
    "# look at all orders by id 607\n",
    "\n",
    "df_607 = sales_df.loc[sales_df['user_id'] == 607]\n",
    "\n",
    "#uncomment the following line to see the data\n",
    "# df_607"
   ]
  },
  {
   "cell_type": "code",
   "execution_count": 31,
   "metadata": {},
   "outputs": [],
   "source": [
    "# check to see if there are seemingly normal transactions at store 42 where all the 607 transactions occur\n",
    "df_42 = sales_df.loc[sales_df['shop_id'] == 42]\n",
    "\n",
    "#uncomment the following line to see the data\n",
    "# df_42"
   ]
  },
  {
   "cell_type": "markdown",
   "metadata": {},
   "source": [
    "### Right away it becomes clear that there are some transactions that would throw off the calculation of average order value, and they fall into two types. The first type is a series of transactions by a single user id, 607, all done by credit card at store 42. Each transaction by id 607 is for 2,000 items at a cost of 704,000, which averages to 352/item. Other smaller transactions occurred at store 42 with similar prices per item so the issue does not seem to be the store. Ideally, I would need to find out more information about user id 607 in order to handle it properly but without being able to do that treating 607 as an outlier and excluding all transactions by user id 607 from calculations is the best option. "
   ]
  },
  {
   "cell_type": "code",
   "execution_count": 32,
   "metadata": {},
   "outputs": [],
   "source": [
    "# drop all transactions by user id 607 from the dataframe\n",
    "\n",
    "step_one = sorted_df[sorted_df.user_id != 607]\n",
    "\n",
    "#uncomment the following line to see the data\n",
    "# step_one.head(50)"
   ]
  },
  {
   "cell_type": "code",
   "execution_count": 33,
   "metadata": {},
   "outputs": [],
   "source": [
    "# check for normal transactions at store 78\n",
    "\n",
    "df_78 = sales_df.loc[sales_df['shop_id'] == 78]\n",
    "\n",
    "#uncomment the following line to see the data\n",
    "# df_78"
   ]
  },
  {
   "cell_type": "markdown",
   "metadata": {},
   "source": [
    "### The second type of problematic transaction is one where the number of items purchased and the order amount are significantly out of proportion. These transactions all occured at shop 78 and no transactions that appear reasonable happened at this shop. It would be helpful to be able to look into shop 78 but since this is not possible, the best option is to exclude all data from this shop in order to avoid skewing the results of AOV calculations. (Best guess here: either purchase data was entered incorrectly and 25725 for one item should be 257.25 for one item or this store was closing and these are the result of selling off fixtures and other assets.)"
   ]
  },
  {
   "cell_type": "code",
   "execution_count": 34,
   "metadata": {},
   "outputs": [],
   "source": [
    "# exclude data from store 78\n",
    "cleaned_df = step_one[step_one.shop_id != 78]\n",
    "\n",
    "#uncomment the following line to see the data\n",
    "# cleaned_df.head(50)\n"
   ]
  },
  {
   "cell_type": "markdown",
   "metadata": {},
   "source": [
    "### Now that the data is cleaned, we can calculate an AOV that more accurately reflects normal business in the stores. "
   ]
  },
  {
   "cell_type": "code",
   "execution_count": 28,
   "metadata": {},
   "outputs": [
    {
     "data": {
      "text/plain": [
       "302.58"
      ]
     },
     "execution_count": 28,
     "metadata": {},
     "output_type": "execute_result"
    }
   ],
   "source": [
    "# find the total number of transactions, the total sales, and then calculate AOV\n",
    "\n",
    "transactions = cleaned_df[\"order_id\"].nunique()\n",
    "\n",
    "total_sales = cleaned_df[\"order_amount\"].sum()\n",
    "\n",
    "aov = round(total_sales/transactions,2)\n",
    "\n",
    "aov"
   ]
  },
  {
   "cell_type": "markdown",
   "metadata": {},
   "source": [
    "### When calculated with cleaned data, the average order value is 302.58, a much more reasonable amount for transactions in shoe stores than the original calculation given in the assignment. The anomalies of user id 607 and shop 78 should still be accounted for in order to have a complete picture."
   ]
  },
  {
   "cell_type": "code",
   "execution_count": null,
   "metadata": {},
   "outputs": [],
   "source": []
  }
 ],
 "metadata": {
  "kernelspec": {
   "display_name": "Python 3",
   "language": "python",
   "name": "python3"
  },
  "language_info": {
   "codemirror_mode": {
    "name": "ipython",
    "version": 3
   },
   "file_extension": ".py",
   "mimetype": "text/x-python",
   "name": "python",
   "nbconvert_exporter": "python",
   "pygments_lexer": "ipython3",
   "version": "3.8.5"
  }
 },
 "nbformat": 4,
 "nbformat_minor": 4
}
